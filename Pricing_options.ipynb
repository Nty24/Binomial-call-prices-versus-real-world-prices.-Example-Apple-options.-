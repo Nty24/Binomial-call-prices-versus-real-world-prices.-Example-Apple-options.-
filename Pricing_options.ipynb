{
 "cells": [
  {
   "cell_type": "markdown",
   "metadata": {},
   "source": [
    "# Pricing options from real data by binomial model"
   ]
  },
  {
   "cell_type": "markdown",
   "metadata": {},
   "source": [
    "# <font color='red'>Important</font>\n",
    "\n",
    "Before you do anything in this lab please open \n",
    "__Anaconda Prompt__ from MenuStart\n",
    "and type \n",
    "__pip install pandas_datareader__\n",
    "and press __ENTER__. \n",
    "\n",
    "If you fail to install it Exercise 1 and all the cells above it won't work. "
   ]
  },
  {
   "cell_type": "markdown",
   "metadata": {},
   "source": [
    "### Please select the line below and press __Shift+Enter__"
   ]
  },
  {
   "cell_type": "code",
   "execution_count": 46,
   "metadata": {},
   "outputs": [],
   "source": [
    "import numpy as np\n",
    "import pandas as pd\n",
    "pd.core.common.is_list_like = pd.api.types.is_list_like\n",
    "import matplotlib.pyplot as plt \n",
    "from scipy import stats\n",
    "import pandas_datareader.data as web\n",
    "from datetime import datetime"
   ]
  },
  {
   "cell_type": "markdown",
   "metadata": {},
   "source": [
    "## Importing Apple stock prices as DataFrame"
   ]
  },
  {
   "cell_type": "code",
   "execution_count": 47,
   "metadata": {},
   "outputs": [
    {
     "name": "stdout",
     "output_type": "stream",
     "text": [
      "2y\n"
     ]
    },
    {
     "data": {
      "text/html": [
       "<div>\n",
       "<style scoped>\n",
       "    .dataframe tbody tr th:only-of-type {\n",
       "        vertical-align: middle;\n",
       "    }\n",
       "\n",
       "    .dataframe tbody tr th {\n",
       "        vertical-align: top;\n",
       "    }\n",
       "\n",
       "    .dataframe thead th {\n",
       "        text-align: right;\n",
       "    }\n",
       "</style>\n",
       "<table border=\"1\" class=\"dataframe\">\n",
       "  <thead>\n",
       "    <tr style=\"text-align: right;\">\n",
       "      <th></th>\n",
       "      <th>open</th>\n",
       "      <th>high</th>\n",
       "      <th>low</th>\n",
       "      <th>close</th>\n",
       "      <th>volume</th>\n",
       "    </tr>\n",
       "    <tr>\n",
       "      <th>date</th>\n",
       "      <th></th>\n",
       "      <th></th>\n",
       "      <th></th>\n",
       "      <th></th>\n",
       "      <th></th>\n",
       "    </tr>\n",
       "  </thead>\n",
       "  <tbody>\n",
       "    <tr>\n",
       "      <th>2018-04-12</th>\n",
       "      <td>170.8090</td>\n",
       "      <td>172.3752</td>\n",
       "      <td>170.4446</td>\n",
       "      <td>171.5281</td>\n",
       "      <td>22889285</td>\n",
       "    </tr>\n",
       "    <tr>\n",
       "      <th>2018-04-13</th>\n",
       "      <td>172.1585</td>\n",
       "      <td>173.2026</td>\n",
       "      <td>171.2424</td>\n",
       "      <td>172.1092</td>\n",
       "      <td>25124255</td>\n",
       "    </tr>\n",
       "    <tr>\n",
       "      <th>2018-04-16</th>\n",
       "      <td>172.4048</td>\n",
       "      <td>173.5473</td>\n",
       "      <td>172.2078</td>\n",
       "      <td>173.1829</td>\n",
       "      <td>21578420</td>\n",
       "    </tr>\n",
       "    <tr>\n",
       "      <th>2018-04-17</th>\n",
       "      <td>173.8428</td>\n",
       "      <td>176.2526</td>\n",
       "      <td>173.7640</td>\n",
       "      <td>175.5666</td>\n",
       "      <td>26605442</td>\n",
       "    </tr>\n",
       "    <tr>\n",
       "      <th>2018-04-18</th>\n",
       "      <td>175.1430</td>\n",
       "      <td>176.1379</td>\n",
       "      <td>174.2270</td>\n",
       "      <td>175.1726</td>\n",
       "      <td>20754538</td>\n",
       "    </tr>\n",
       "  </tbody>\n",
       "</table>\n",
       "</div>"
      ],
      "text/plain": [
       "                open      high       low     close    volume\n",
       "date                                                        \n",
       "2018-04-12  170.8090  172.3752  170.4446  171.5281  22889285\n",
       "2018-04-13  172.1585  173.2026  171.2424  172.1092  25124255\n",
       "2018-04-16  172.4048  173.5473  172.2078  173.1829  21578420\n",
       "2018-04-17  173.8428  176.2526  173.7640  175.5666  26605442\n",
       "2018-04-18  175.1430  176.1379  174.2270  175.1726  20754538"
      ]
     },
     "execution_count": 47,
     "metadata": {},
     "output_type": "execute_result"
    }
   ],
   "source": [
    "start_date = 2018, 4, 12\n",
    "end_date = 2019, 4, 13\n",
    "start = datetime(*start_date) #date a year from now\n",
    "end = datetime(*end_date) #today's date\n",
    "df_stock = web.DataReader('AAPL', 'iex', start, end) #by using that you can get stock prices from the web\n",
    "# first parameter is 'AAPL' is a ticker that represents Apple, \n",
    "# 'iex' is a The Investors Exchange (IEX) https://iextrading.com/apps/stocks/ from where we get the data\n",
    "# Example of other tickers are:\n",
    "# GOOGL for google stock\n",
    "# FB for facebook \n",
    "# MSFT for Microsoft\n",
    "# Full list can be downloaded from http://www.nasdaq.com/screening/companies-by-industry.aspx?exchange=NASDAQ&render=download\n",
    "\n",
    "df_stock.head() # this displayed the header of the dataframe"
   ]
  },
  {
   "cell_type": "markdown",
   "metadata": {},
   "source": [
    "- __open__ The opening price is the price at which a security first trades upon the opening of an exchange on a trading day.\n",
    "- __high__ and __low__ The daily high is the highest price reached by a given security or index during a given day, while the daily low is the lowest price reached by a given security or index during a given day. If there has been no price change during the day then the High and Low values will be the same as the previous day’s close.\n",
    "- __close__ The column \"close\" contains the closing price on a given day and it is the last price for a tradable instrument at the time the market closes. The closing price will be based on the results of the closing auction or the mid price of the best bid and offer prices at the time the market closes.\n",
    "- __volume__ This figure represents the cumulative volume for the day i.e. the total number of shares traded during the current day. A dash is used to identify the cumulative volume for some illiquid securities, and means that there has been no reported trades for that particular security (i.e. a cumulative trading volume of zero).\n"
   ]
  },
  {
   "cell_type": "code",
   "execution_count": 48,
   "metadata": {},
   "outputs": [
    {
     "data": {
      "image/png": "[encoded data removed]",
      "text/plain": [
       "<Figure size 432x288 with 1 Axes>"
      ]
     },
     "metadata": {},
     "output_type": "display_data"
    }
   ],
   "source": [
    "dates = df_stock.index #in order to display dates on the graph we can do as follows\n",
    "dates = [datetime.strptime(d,'%Y-%m-%d').date() for d in dates]  #we have to convert it to a certain supported format\n",
    "plt.plot(dates, df_stock[\"close\"])\n",
    "plt.title(\"APPLE Stock prices Last Year\")\n",
    "plt.show()"
   ]
  },
  {
   "cell_type": "markdown",
   "metadata": {},
   "source": [
    "# Estimating volatlity\n",
    "Here we estimate the volatility $\\sigma$ of the APPLE stocks in the last year period. \n",
    "\n",
    "Recall that given the column of stock prices $s = \\{s_1, s_2, \\ldots, s_{251}\\}$, \n",
    "the estimated volatility can be approximated by\n",
    "$$\\sigma \\approx  \\sqrt{ \\frac{\\mbox{Var}(y)}{\\delta t}},$$\n",
    "where $$y = \\left\\{\\ln\\left(\\frac{s_2}{s_1}\\right),\\ln\\left(\\frac{s_3}{s_2}\\right), \\ldots, \\ln\\left(\\frac{s_{251}}{s_{250}}\\right) \\right\\}$$\n",
    "and $\\mbox{Var}(x) = \\frac{1}{n} \\sum_{k=1}^n \\left(x_i - \\frac{1}{n}\\sum_{k=1}^n x_i \\right)^2$ stands for the variance of $x = \\{x_1, x_2, \\ldots, x_n\\}$. \n",
    "You may also want to use the unbiased estimator for the population variance \n",
    "$$\\mbox{Var}_2(x) = \\frac{1}{n-1} \\sum_{k=1}^n \\left(x_i - \\frac{1}{n}\\sum_{k=1}^n x_i \\right)^2.$$ "
   ]
  },
  {
   "cell_type": "code",
   "execution_count": 49,
   "metadata": {},
   "outputs": [],
   "source": [
    "def volatlity(stock, my_ddof = 0):\n",
    "    dt = 1/stock.size\n",
    "    current = stock\n",
    "    shifted = stock.shift(-1)\n",
    "    shifted = shifted[:-1]\n",
    "    current = current[:-1]\n",
    "    delta_logs = np.log(shifted) - np.log(current)\n",
    "    variance = np.var(delta_logs, ddof = my_ddof)\n",
    "    return np.sqrt(variance/dt)"
   ]
  },
  {
   "cell_type": "code",
   "execution_count": 50,
   "metadata": {},
   "outputs": [
    {
     "name": "stdout",
     "output_type": "stream",
     "text": [
      "0.30150023134021914 0.3021002323940535\n"
     ]
    }
   ],
   "source": [
    "apple = df_stock[\"close\"]\n",
    "\n",
    "apple_vol1 =  volatlity(apple)\n",
    "apple_vol2 = volatlity(apple, 1)\n",
    "\n",
    "print(apple_vol1, apple_vol2)"
   ]
  },
  {
   "cell_type": "markdown",
   "metadata": {},
   "source": [
    "# Importing Option Data\n",
    "\n",
    "Make sure that you downloaded __options_yahoo.py__ file from Moodle and placed it in the same folder as this notebook. \n",
    "Then evalute the cell"
   ]
  },
  {
   "cell_type": "code",
   "execution_count": 51,
   "metadata": {},
   "outputs": [],
   "source": [
    "from options_yahoo import * #import my script"
   ]
  },
  {
   "cell_type": "markdown",
   "metadata": {},
   "source": [
    "This is the script that I wrote to allow you to download options data from YahooFinance portal. The function that you wish to use is __yahoo_fin_opts__ that has two string inputs, a stock ticker e.g. 'AAPL', and the date with a strange formatting e.g. 1579219200 (the number of seconds since Thursday, 1 January 1970 until the selected date).\n",
    "This number can be obtained from here [Link](https://uk.finance.yahoo.com/quote/AAPL/options?p=AAPL&straddle=true) after you select the date from the list. "
   ]
  },
  {
   "cell_type": "markdown",
   "metadata": {},
   "source": [
    "By using __options_yahoo__ function we import the prices of options on APPLE stock with maturity in about a year from now. \n",
    "We Print the header of this dataframe and print the call prices (y axis) versus strike prices (x axis). "
   ]
  },
  {
   "cell_type": "code",
   "execution_count": 52,
   "metadata": {},
   "outputs": [
    {
     "data": {
      "text/html": [
       "<div>\n",
       "<style scoped>\n",
       "    .dataframe tbody tr th:only-of-type {\n",
       "        vertical-align: middle;\n",
       "    }\n",
       "\n",
       "    .dataframe tbody tr th {\n",
       "        vertical-align: top;\n",
       "    }\n",
       "\n",
       "    .dataframe thead th {\n",
       "        text-align: right;\n",
       "    }\n",
       "</style>\n",
       "<table border=\"1\" class=\"dataframe\">\n",
       "  <thead>\n",
       "    <tr style=\"text-align: right;\">\n",
       "      <th></th>\n",
       "      <th>strike</th>\n",
       "      <th>call</th>\n",
       "    </tr>\n",
       "  </thead>\n",
       "  <tbody>\n",
       "    <tr>\n",
       "      <th>0</th>\n",
       "      <td>75.0</td>\n",
       "      <td>86.25</td>\n",
       "    </tr>\n",
       "    <tr>\n",
       "      <th>1</th>\n",
       "      <td>80.0</td>\n",
       "      <td>120.70</td>\n",
       "    </tr>\n",
       "    <tr>\n",
       "      <th>2</th>\n",
       "      <td>85.0</td>\n",
       "      <td>104.00</td>\n",
       "    </tr>\n",
       "    <tr>\n",
       "      <th>3</th>\n",
       "      <td>90.0</td>\n",
       "      <td>106.22</td>\n",
       "    </tr>\n",
       "    <tr>\n",
       "      <th>4</th>\n",
       "      <td>95.0</td>\n",
       "      <td>76.72</td>\n",
       "    </tr>\n",
       "  </tbody>\n",
       "</table>\n",
       "</div>"
      ],
      "text/plain": [
       "   strike    call\n",
       "0    75.0   86.25\n",
       "1    80.0  120.70\n",
       "2    85.0  104.00\n",
       "3    90.0  106.22\n",
       "4    95.0   76.72"
      ]
     },
     "execution_count": 52,
     "metadata": {},
     "output_type": "execute_result"
    }
   ],
   "source": [
    "df_appl_opts = yahoo_fin_opts('AAPL', '1592524800')\n",
    "df_appl_opts.head()"
   ]
  },
  {
   "cell_type": "code",
   "execution_count": 53,
   "metadata": {},
   "outputs": [
    {
     "data": {
      "image/png": "[encoded data removed]",
      "text/plain": [
       "<Figure size 432x288 with 1 Axes>"
      ]
     },
     "metadata": {},
     "output_type": "display_data"
    }
   ],
   "source": [
    "df_appl_opts.plot(kind='scatter', x=\"strike\", y=\"call\")\n",
    "plt.show()"
   ]
  },
  {
   "cell_type": "markdown",
   "metadata": {},
   "source": [
    "# Binomial prices versus real-world prices\n",
    "Now we will price the options by using the binomial tree model. Use the function __binomial_pricer__ written below, also we use the following parameters\n",
    "- S0 - the current price of Apple stock, obtained from the __df_stock__ dataframe. \n",
    "- K - the list of strike prices from the previous exercise,\n",
    "- sigma, the estimated volatlity,\n",
    "- r, set to zero, \n",
    "- T, set to 1.0, \n",
    "- n, set to 251. \n",
    "- payoff, call payoff function. \n",
    "\n",
    "We produce the graph of call prices in the binomial model and compare it with the real-world prices. "
   ]
  },
  {
   "cell_type": "code",
   "execution_count": 54,
   "metadata": {},
   "outputs": [],
   "source": [
    "def binomial_term(S0, K, u, q, n, f, k):\n",
    "    d = 1/u\n",
    "    binomial_coeff = stats.binom.pmf(k, n, q)\n",
    "    ST = S0*u**k*d**(n-k)\n",
    "    payoff = f(ST, K)\n",
    "    return binomial_coeff*payoff\n",
    "\n",
    "\n",
    "def binomial_pricer(S0, K, sigma, r, T, n, payoff):\n",
    "    k_vals = np.arange(0, n+1)\n",
    "    dt = T/n\n",
    "    u = np.exp(sigma*np.sqrt(dt))\n",
    "    d = 1/u\n",
    "    q = (np.exp(r*dt)-d)/(u-d)\n",
    "    binomial_terms = binomial_term(S0, K, u, q, n, payoff, k_vals)\n",
    "    overall_sum = np.sum(binomial_terms)\n",
    "    return np.exp(-r*dt*n)*overall_sum\n",
    "\n",
    "def call(ST, K):\n",
    "    return np.maximum(ST-K, 0)"
   ]
  },
  {
   "cell_type": "code",
   "execution_count": 55,
   "metadata": {},
   "outputs": [],
   "source": [
    "S0 = df_stock[\"close\"][-1]\n",
    "K_vals = df_appl_opts[\"strike\"]\n",
    "sigma = apple_vol1 \n",
    "r = 0\n",
    "T = 1.0\n",
    "n = 261\n",
    "binomial_calls = np.array([binomial_pricer(S0, K, sigma, r, T, n, call) for K in K_vals])"
   ]
  },
  {
   "cell_type": "code",
   "execution_count": 56,
   "metadata": {},
   "outputs": [
    {
     "data": {
      "image/png": "[encoded data removed]",
      "text/plain": [
       "<Figure size 432x288 with 1 Axes>"
      ]
     },
     "metadata": {},
     "output_type": "display_data"
    }
   ],
   "source": [
    "df_appl_opts.plot(kind='scatter', x=\"strike\", y=\"call\", label=\"real world prices\")\n",
    "plt.plot(K_vals, binomial_calls, 'r', label='binomial prices')\n",
    "plt.title(\"Call prices on APPLE stock\")\n",
    "plt.legend()\n",
    "plt.show()"
   ]
  }
 ],
 "metadata": {
  "kernelspec": {
   "display_name": "Python 3",
   "language": "python",
   "name": "python3"
  },
  "language_info": {
   "codemirror_mode": {
    "name": "ipython",
    "version": 3
   },
   "file_extension": ".py",
   "mimetype": "text/x-python",
   "name": "python",
   "nbconvert_exporter": "python",
   "pygments_lexer": "ipython3",
   "version": "3.6.5"
  }
 },
 "nbformat": 4,
 "nbformat_minor": 2
}
